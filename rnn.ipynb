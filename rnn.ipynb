{
 "cells": [
  {
   "cell_type": "markdown",
   "metadata": {
    "colab_type": "text",
    "id": "xpAuMVCwfWs8"
   },
   "source": [
    "# Recurrent Neural Network"
   ]
  },
  {
   "cell_type": "code",
   "execution_count": 48,
   "metadata": {
    "colab": {},
    "colab_type": "code",
    "id": "ZT1f24vHffuf"
   },
   "outputs": [],
   "source": [
    "import numpy as np\n",
    "import matplotlib.pyplot as plt\n",
    "import pandas as pd\n",
    "import tensorflow as tf\n",
    "from keras.models import Sequential\n",
    "import seaborn as sns\n",
    "# from keras.layers import Dense\n",
    "# from keras.layers import LSTM\n",
    "# from keras.layers import Dropout"
   ]
  },
  {
   "cell_type": "markdown",
   "metadata": {
    "colab_type": "text",
    "id": "nQ47JAxrgmaL"
   },
   "source": [
    "### Importing the training set"
   ]
  },
  {
   "cell_type": "code",
   "execution_count": 49,
   "metadata": {
    "colab": {},
    "colab_type": "code",
    "id": "1xiv3pJOgqY3"
   },
   "outputs": [
    {
     "data": {
      "text/plain": [
       "array([[325.25],\n",
       "       [331.27],\n",
       "       [329.83],\n",
       "       ...,\n",
       "       [793.7 ],\n",
       "       [783.33],\n",
       "       [782.75]])"
      ]
     },
     "execution_count": 49,
     "metadata": {},
     "output_type": "execute_result"
    }
   ],
   "source": [
    "dataset_train = pd.read_csv('Google_Stock_Price_Train.csv')\n",
    "training_set = dataset_train.iloc[:, 1:2].values\n",
    "training_set"
   ]
  },
  {
   "cell_type": "code",
   "execution_count": 50,
   "metadata": {},
   "outputs": [
    {
     "name": "stderr",
     "output_type": "stream",
     "text": [
      "/tmp/ipykernel_197896/3455477308.py:3: FutureWarning: The default value of numeric_only in DataFrame.corr is deprecated. In a future version, it will default to False. Select only valid columns or specify the value of numeric_only to silence this warning.\n",
      "  data.corr()\n"
     ]
    },
    {
     "data": {
      "text/html": [
       "<div>\n",
       "<style scoped>\n",
       "    .dataframe tbody tr th:only-of-type {\n",
       "        vertical-align: middle;\n",
       "    }\n",
       "\n",
       "    .dataframe tbody tr th {\n",
       "        vertical-align: top;\n",
       "    }\n",
       "\n",
       "    .dataframe thead th {\n",
       "        text-align: right;\n",
       "    }\n",
       "</style>\n",
       "<table border=\"1\" class=\"dataframe\">\n",
       "  <thead>\n",
       "    <tr style=\"text-align: right;\">\n",
       "      <th></th>\n",
       "      <th>Open</th>\n",
       "      <th>High</th>\n",
       "      <th>Low</th>\n",
       "    </tr>\n",
       "  </thead>\n",
       "  <tbody>\n",
       "    <tr>\n",
       "      <th>Open</th>\n",
       "      <td>1.000000</td>\n",
       "      <td>0.999692</td>\n",
       "      <td>0.999498</td>\n",
       "    </tr>\n",
       "    <tr>\n",
       "      <th>High</th>\n",
       "      <td>0.999692</td>\n",
       "      <td>1.000000</td>\n",
       "      <td>0.999480</td>\n",
       "    </tr>\n",
       "    <tr>\n",
       "      <th>Low</th>\n",
       "      <td>0.999498</td>\n",
       "      <td>0.999480</td>\n",
       "      <td>1.000000</td>\n",
       "    </tr>\n",
       "  </tbody>\n",
       "</table>\n",
       "</div>"
      ],
      "text/plain": [
       "          Open      High       Low\n",
       "Open  1.000000  0.999692  0.999498\n",
       "High  0.999692  1.000000  0.999480\n",
       "Low   0.999498  0.999480  1.000000"
      ]
     },
     "execution_count": 50,
     "metadata": {},
     "output_type": "execute_result"
    }
   ],
   "source": [
    "data = dataset_train.copy()\n",
    "data = pd.DataFrame(data)\n",
    "data.corr()"
   ]
  },
  {
   "cell_type": "code",
   "execution_count": 51,
   "metadata": {},
   "outputs": [
    {
     "name": "stderr",
     "output_type": "stream",
     "text": [
      "/tmp/ipykernel_197896/1531484987.py:1: FutureWarning: The default value of numeric_only in DataFrame.corr is deprecated. In a future version, it will default to False. Select only valid columns or specify the value of numeric_only to silence this warning.\n",
      "  corre_mat = data.corr()\n"
     ]
    },
    {
     "data": {
      "image/png": "[encoded data removed]",
      "text/plain": [
       "<Figure size 640x480 with 2 Axes>"
      ]
     },
     "metadata": {},
     "output_type": "display_data"
    }
   ],
   "source": [
    "corre_mat = data.corr()\n",
    "sns.heatmap(corre_mat, annot= True)\n",
    "plt.show()"
   ]
  },
  {
   "cell_type": "markdown",
   "metadata": {
    "colab_type": "text",
    "id": "HT8_2UJegtG5"
   },
   "source": [
    "### Feature Scaling"
   ]
  },
  {
   "cell_type": "code",
   "execution_count": 25,
   "metadata": {
    "colab": {},
    "colab_type": "code",
    "id": "OTrF2kR7gx9x"
   },
   "outputs": [],
   "source": [
    "from sklearn.preprocessing import MinMaxScaler\n",
    "sc = MinMaxScaler(feature_range = (0, 1))\n",
    "training_set_scaled = sc.fit_transform(training_set)"
   ]
  },
  {
   "cell_type": "markdown",
   "metadata": {
    "colab_type": "text",
    "id": "JyYgYocqhNUg"
   },
   "source": [
    "### Creating a data structure with 60 timesteps and 1 output"
   ]
  },
  {
   "cell_type": "code",
   "execution_count": 26,
   "metadata": {
    "colab": {},
    "colab_type": "code",
    "id": "iofU21B0i6ST"
   },
   "outputs": [],
   "source": [
    "X_train = []\n",
    "y_train = []\n",
    "for i in range(60, 1258):\n",
    "    X_train.append(training_set_scaled[i-60:i, 0])\n",
    "    y_train.append(training_set_scaled[i, 0])\n",
    "X_train, y_train = np.array(X_train), np.array(y_train)\n"
   ]
  },
  {
   "cell_type": "markdown",
   "metadata": {
    "colab_type": "text",
    "id": "D8yaN7Zvi95l"
   },
   "source": [
    "### Reshaping"
   ]
  },
  {
   "cell_type": "code",
   "execution_count": 27,
   "metadata": {
    "colab": {},
    "colab_type": "code",
    "id": "FOXqJHmNjBkz"
   },
   "outputs": [],
   "source": [
    "X_train = np.reshape(X_train, (X_train.shape[0], X_train.shape[1], 1))"
   ]
  },
  {
   "cell_type": "markdown",
   "metadata": {
    "colab_type": "text",
    "id": "FEIE-1s9jNzC"
   },
   "source": [
    "### Initialising the RNN"
   ]
  },
  {
   "cell_type": "code",
   "execution_count": 30,
   "metadata": {
    "colab": {},
    "colab_type": "code",
    "id": "1338dJ0UjRKH"
   },
   "outputs": [],
   "source": [
    "regressor = Sequential([\n",
    "    tf.keras.layers.SimpleRNN(50, activation='relu', return_sequences=True, input_shape=(X_train.shape[1], 1)),\n",
    "    tf.keras.layers.SimpleRNN(50, activation='relu', return_sequences=True),\n",
    "    tf.keras.layers.SimpleRNN(50, activation='relu', return_sequences=True),\n",
    "    tf.keras.layers.SimpleRNN(50, activation='relu', return_sequences=False),  # Last layer doesn't return sequences\n",
    "    tf.keras.layers.Dense(1)\n",
    "])"
   ]
  },
  {
   "cell_type": "code",
   "execution_count": 31,
   "metadata": {
    "colab": {},
    "colab_type": "code",
    "id": "2hIinyXUjbVU"
   },
   "outputs": [],
   "source": [
    "# regressor.add(units = 50, return_sequences = True, input_shape = (X_train.shape[1], 1))\n",
    "# regressor.add(Dropout(0.2))"
   ]
  },
  {
   "cell_type": "code",
   "execution_count": 32,
   "metadata": {
    "colab": {},
    "colab_type": "code",
    "id": "UG7nrVaSjuZ2"
   },
   "outputs": [],
   "source": [
    "# regressor.add(LSTM(units = 50, return_sequences = True))\n",
    "# regressor.add(Dropout(0.2))"
   ]
  },
  {
   "cell_type": "code",
   "execution_count": 33,
   "metadata": {
    "colab": {},
    "colab_type": "code",
    "id": "PuNi6PgFj7jO"
   },
   "outputs": [],
   "source": [
    "# regressor.add(LSTM(units = 50, return_sequences = True))\n",
    "# regressor.add(Dropout(0.2))"
   ]
  },
  {
   "cell_type": "code",
   "execution_count": 35,
   "metadata": {
    "colab": {},
    "colab_type": "code",
    "id": "Jp4Ty8fRkBYV"
   },
   "outputs": [],
   "source": [
    "# regressor.add(LSTM(units = 50))\n",
    "# regressor.add(Dropout(0.2))"
   ]
  },
  {
   "cell_type": "code",
   "execution_count": 36,
   "metadata": {
    "colab": {},
    "colab_type": "code",
    "id": "aM6R1z4WkME8"
   },
   "outputs": [],
   "source": [
    "# regressor.add(Dense(units = 1))"
   ]
  },
  {
   "cell_type": "markdown",
   "metadata": {
    "colab_type": "text",
    "id": "zLx4K7uUkPSh"
   },
   "source": [
    "### Compiling the RNN"
   ]
  },
  {
   "cell_type": "code",
   "execution_count": 37,
   "metadata": {
    "colab": {},
    "colab_type": "code",
    "id": "XTrhVN-tkbko"
   },
   "outputs": [],
   "source": [
    "regressor.compile(optimizer = 'adam', loss = 'mean_squared_error')"
   ]
  },
  {
   "cell_type": "markdown",
   "metadata": {
    "colab_type": "text",
    "id": "-mPhwKGkkebi"
   },
   "source": [
    "### Fitting the RNN to the Training set"
   ]
  },
  {
   "cell_type": "code",
   "execution_count": 38,
   "metadata": {
    "colab": {
     "base_uri": "https://localhost:8080/",
     "height": 1000
    },
    "colab_type": "code",
    "id": "I06Nkrz5kkb-",
    "outputId": "dc9d947a-4d5c-4dbc-ed45-31bf44b98dfb"
   },
   "outputs": [
    {
     "name": "stdout",
     "output_type": "stream",
     "text": [
      "Epoch 1/100\n",
      "38/38 [==============================] - 2s 16ms/step - loss: 0.0305\n",
      "Epoch 2/100\n",
      "38/38 [==============================] - 1s 16ms/step - loss: 6.9971e-04\n",
      "Epoch 3/100\n",
      "38/38 [==============================] - 1s 16ms/step - loss: 5.7968e-04\n",
      "Epoch 4/100\n",
      "38/38 [==============================] - 1s 16ms/step - loss: 5.1802e-04\n",
      "Epoch 5/100\n",
      "38/38 [==============================] - 1s 16ms/step - loss: 4.4292e-04\n",
      "Epoch 6/100\n",
      "38/38 [==============================] - 1s 15ms/step - loss: 4.7770e-04\n",
      "Epoch 7/100\n",
      "38/38 [==============================] - 1s 15ms/step - loss: 4.7161e-04\n",
      "Epoch 8/100\n",
      "38/38 [==============================] - 1s 16ms/step - loss: 4.0995e-04\n",
      "Epoch 9/100\n",
      "38/38 [==============================] - 1s 16ms/step - loss: 3.6175e-04\n",
      "Epoch 10/100\n",
      "38/38 [==============================] - 1s 16ms/step - loss: 3.9176e-04\n",
      "Epoch 11/100\n",
      "38/38 [==============================] - 1s 15ms/step - loss: 5.0469e-04\n",
      "Epoch 12/100\n",
      "38/38 [==============================] - 1s 15ms/step - loss: 3.5845e-04\n",
      "Epoch 13/100\n",
      "38/38 [==============================] - 1s 15ms/step - loss: 3.3863e-04\n",
      "Epoch 14/100\n",
      "38/38 [==============================] - 1s 16ms/step - loss: 3.8680e-04\n",
      "Epoch 15/100\n",
      "38/38 [==============================] - 1s 16ms/step - loss: 3.5271e-04\n",
      "Epoch 16/100\n",
      "38/38 [==============================] - 1s 16ms/step - loss: 3.4799e-04\n",
      "Epoch 17/100\n",
      "38/38 [==============================] - 1s 16ms/step - loss: 3.5411e-04\n",
      "Epoch 18/100\n",
      "38/38 [==============================] - 1s 16ms/step - loss: 3.2299e-04\n",
      "Epoch 19/100\n",
      "38/38 [==============================] - 1s 16ms/step - loss: 3.8857e-04\n",
      "Epoch 20/100\n",
      "38/38 [==============================] - 1s 15ms/step - loss: 4.2703e-04\n",
      "Epoch 21/100\n",
      "38/38 [==============================] - 1s 16ms/step - loss: 3.2686e-04\n",
      "Epoch 22/100\n",
      "38/38 [==============================] - 1s 15ms/step - loss: 4.2042e-04\n",
      "Epoch 23/100\n",
      "38/38 [==============================] - 1s 15ms/step - loss: 3.4756e-04\n",
      "Epoch 24/100\n",
      "38/38 [==============================] - 1s 15ms/step - loss: 3.3611e-04\n",
      "Epoch 25/100\n",
      "38/38 [==============================] - 1s 16ms/step - loss: 2.9641e-04\n",
      "Epoch 26/100\n",
      "38/38 [==============================] - 1s 16ms/step - loss: 3.1241e-04\n",
      "Epoch 27/100\n",
      "38/38 [==============================] - 1s 16ms/step - loss: 3.4495e-04\n",
      "Epoch 28/100\n",
      "38/38 [==============================] - 1s 16ms/step - loss: 2.9753e-04\n",
      "Epoch 29/100\n",
      "38/38 [==============================] - 1s 16ms/step - loss: 3.6717e-04\n",
      "Epoch 30/100\n",
      "38/38 [==============================] - 1s 16ms/step - loss: 3.2995e-04\n",
      "Epoch 31/100\n",
      "38/38 [==============================] - 1s 17ms/step - loss: 4.3537e-04\n",
      "Epoch 32/100\n",
      "38/38 [==============================] - 1s 17ms/step - loss: 2.7921e-04\n",
      "Epoch 33/100\n",
      "38/38 [==============================] - 1s 17ms/step - loss: 2.8200e-04\n",
      "Epoch 34/100\n",
      "38/38 [==============================] - 1s 17ms/step - loss: 3.4934e-04\n",
      "Epoch 35/100\n",
      "38/38 [==============================] - 1s 16ms/step - loss: 3.0404e-04\n",
      "Epoch 36/100\n",
      "38/38 [==============================] - 1s 16ms/step - loss: 3.0612e-04\n",
      "Epoch 37/100\n",
      "38/38 [==============================] - 1s 16ms/step - loss: 2.7570e-04\n",
      "Epoch 38/100\n",
      "38/38 [==============================] - 1s 16ms/step - loss: 2.9752e-04\n",
      "Epoch 39/100\n",
      "38/38 [==============================] - 1s 16ms/step - loss: 3.6599e-04\n",
      "Epoch 40/100\n",
      "38/38 [==============================] - 1s 15ms/step - loss: 3.0822e-04\n",
      "Epoch 41/100\n",
      "38/38 [==============================] - 1s 16ms/step - loss: 2.8256e-04\n",
      "Epoch 42/100\n",
      "38/38 [==============================] - 1s 15ms/step - loss: 3.0031e-04\n",
      "Epoch 43/100\n",
      "38/38 [==============================] - 1s 15ms/step - loss: 3.6493e-04\n",
      "Epoch 44/100\n",
      "38/38 [==============================] - 1s 16ms/step - loss: 3.7808e-04\n",
      "Epoch 45/100\n",
      "38/38 [==============================] - 1s 16ms/step - loss: 2.9616e-04\n",
      "Epoch 46/100\n",
      "38/38 [==============================] - 1s 17ms/step - loss: 2.9441e-04\n",
      "Epoch 47/100\n",
      "38/38 [==============================] - 1s 17ms/step - loss: 3.2244e-04\n",
      "Epoch 48/100\n",
      "38/38 [==============================] - 1s 16ms/step - loss: 2.7785e-04\n",
      "Epoch 49/100\n",
      "38/38 [==============================] - 1s 16ms/step - loss: 3.4379e-04\n",
      "Epoch 50/100\n",
      "38/38 [==============================] - 1s 16ms/step - loss: 3.3074e-04\n",
      "Epoch 51/100\n",
      "38/38 [==============================] - 1s 16ms/step - loss: 3.1235e-04\n",
      "Epoch 52/100\n",
      "38/38 [==============================] - 1s 17ms/step - loss: 2.7136e-04\n",
      "Epoch 53/100\n",
      "38/38 [==============================] - 1s 16ms/step - loss: 3.2532e-04\n",
      "Epoch 54/100\n",
      "38/38 [==============================] - 1s 16ms/step - loss: 4.0445e-04\n",
      "Epoch 55/100\n",
      "38/38 [==============================] - 1s 17ms/step - loss: 2.9660e-04\n",
      "Epoch 56/100\n",
      "38/38 [==============================] - 1s 16ms/step - loss: 3.6065e-04\n",
      "Epoch 57/100\n",
      "38/38 [==============================] - 1s 16ms/step - loss: 2.8273e-04\n",
      "Epoch 58/100\n",
      "38/38 [==============================] - 1s 16ms/step - loss: 2.7809e-04\n",
      "Epoch 59/100\n",
      "38/38 [==============================] - 1s 16ms/step - loss: 2.9435e-04\n",
      "Epoch 60/100\n",
      "38/38 [==============================] - 1s 16ms/step - loss: 2.6583e-04\n",
      "Epoch 61/100\n",
      "38/38 [==============================] - 1s 16ms/step - loss: 3.0111e-04\n",
      "Epoch 62/100\n",
      "38/38 [==============================] - 1s 16ms/step - loss: 3.4611e-04\n",
      "Epoch 63/100\n",
      "38/38 [==============================] - 1s 16ms/step - loss: 3.2089e-04\n",
      "Epoch 64/100\n",
      "38/38 [==============================] - 1s 16ms/step - loss: 3.0883e-04\n",
      "Epoch 65/100\n",
      "38/38 [==============================] - 1s 16ms/step - loss: 3.6952e-04\n",
      "Epoch 66/100\n",
      "38/38 [==============================] - 1s 16ms/step - loss: 2.8959e-04\n",
      "Epoch 67/100\n",
      "38/38 [==============================] - 1s 16ms/step - loss: 3.4165e-04\n",
      "Epoch 68/100\n",
      "38/38 [==============================] - 1s 16ms/step - loss: 3.3811e-04\n",
      "Epoch 69/100\n",
      "38/38 [==============================] - 1s 16ms/step - loss: 2.7445e-04\n",
      "Epoch 70/100\n",
      "38/38 [==============================] - 1s 16ms/step - loss: 3.5296e-04\n",
      "Epoch 71/100\n",
      "38/38 [==============================] - 1s 16ms/step - loss: 3.1352e-04\n",
      "Epoch 72/100\n",
      "38/38 [==============================] - 1s 16ms/step - loss: 4.1578e-04\n",
      "Epoch 73/100\n",
      "38/38 [==============================] - 1s 15ms/step - loss: 2.9938e-04\n",
      "Epoch 74/100\n",
      "38/38 [==============================] - 1s 15ms/step - loss: 3.1156e-04\n",
      "Epoch 75/100\n",
      "38/38 [==============================] - 1s 16ms/step - loss: 2.8028e-04\n",
      "Epoch 76/100\n",
      "38/38 [==============================] - 1s 16ms/step - loss: 3.0873e-04\n",
      "Epoch 77/100\n",
      "38/38 [==============================] - 1s 16ms/step - loss: 2.8001e-04\n",
      "Epoch 78/100\n",
      "38/38 [==============================] - 1s 16ms/step - loss: 3.1945e-04\n",
      "Epoch 79/100\n",
      "38/38 [==============================] - 1s 16ms/step - loss: 3.8294e-04\n",
      "Epoch 80/100\n",
      "38/38 [==============================] - 1s 16ms/step - loss: 4.7625e-04\n",
      "Epoch 81/100\n",
      "38/38 [==============================] - 1s 16ms/step - loss: 3.0848e-04\n",
      "Epoch 82/100\n",
      "38/38 [==============================] - 1s 15ms/step - loss: 4.6724e-04\n",
      "Epoch 83/100\n",
      "38/38 [==============================] - 1s 15ms/step - loss: 3.0223e-04\n",
      "Epoch 84/100\n",
      "38/38 [==============================] - 1s 17ms/step - loss: 2.8221e-04\n",
      "Epoch 85/100\n",
      "38/38 [==============================] - 1s 16ms/step - loss: 2.8550e-04\n",
      "Epoch 86/100\n",
      "38/38 [==============================] - 1s 16ms/step - loss: 3.0577e-04\n",
      "Epoch 87/100\n",
      "38/38 [==============================] - 1s 16ms/step - loss: 3.4840e-04\n",
      "Epoch 88/100\n",
      "38/38 [==============================] - 1s 16ms/step - loss: 2.9406e-04\n",
      "Epoch 89/100\n",
      "38/38 [==============================] - 1s 16ms/step - loss: 2.6688e-04\n",
      "Epoch 90/100\n",
      "38/38 [==============================] - 1s 16ms/step - loss: 3.0105e-04\n",
      "Epoch 91/100\n",
      "38/38 [==============================] - 1s 15ms/step - loss: 4.3746e-04\n",
      "Epoch 92/100\n",
      "38/38 [==============================] - 1s 16ms/step - loss: 3.6561e-04\n",
      "Epoch 93/100\n",
      "38/38 [==============================] - 1s 16ms/step - loss: 2.9005e-04\n",
      "Epoch 94/100\n",
      "38/38 [==============================] - 1s 16ms/step - loss: 2.6238e-04\n",
      "Epoch 95/100\n",
      "38/38 [==============================] - 1s 16ms/step - loss: 2.9397e-04\n",
      "Epoch 96/100\n"
     ]
    },
    {
     "name": "stdout",
     "output_type": "stream",
     "text": [
      "38/38 [==============================] - 1s 16ms/step - loss: 3.1336e-04\n",
      "Epoch 97/100\n",
      "38/38 [==============================] - 1s 17ms/step - loss: 2.8291e-04\n",
      "Epoch 98/100\n",
      "38/38 [==============================] - 1s 16ms/step - loss: 2.9527e-04\n",
      "Epoch 99/100\n",
      "38/38 [==============================] - 1s 17ms/step - loss: 3.2137e-04\n",
      "Epoch 100/100\n",
      "38/38 [==============================] - 1s 16ms/step - loss: 3.4235e-04\n"
     ]
    },
    {
     "data": {
      "text/plain": [
       "<keras.callbacks.History at 0x7f7eda1cd390>"
      ]
     },
     "execution_count": 38,
     "metadata": {},
     "output_type": "execute_result"
    }
   ],
   "source": [
    "regressor.fit(X_train, y_train, epochs = 100, batch_size = 32)"
   ]
  },
  {
   "cell_type": "markdown",
   "metadata": {
    "colab_type": "text",
    "id": "4hRau_lIkrE8"
   },
   "source": [
    "## Part 3 - Making the predictions and visualising the results"
   ]
  },
  {
   "cell_type": "code",
   "execution_count": 39,
   "metadata": {
    "colab": {},
    "colab_type": "code",
    "id": "FmBT2zqukxTz"
   },
   "outputs": [],
   "source": [
    "dataset_test = pd.read_csv('Google_Stock_Price_Test.csv')\n",
    "real_stock_price = dataset_test.iloc[:, 1:2].values"
   ]
  },
  {
   "cell_type": "code",
   "execution_count": 40,
   "metadata": {
    "colab": {},
    "colab_type": "code",
    "id": "emikTvUpk3Ck"
   },
   "outputs": [
    {
     "name": "stdout",
     "output_type": "stream",
     "text": [
      "80\n",
      "1/1 [==============================] - 0s 226ms/step\n"
     ]
    }
   ],
   "source": [
    "dataset_total = pd.concat((dataset_train['Open'], dataset_test['Open']), axis = 0)\n",
    "# print(len(dataset_total))\n",
    "inputs = dataset_total[len(dataset_total) - len(dataset_test) - 60:].values\n",
    "print(len(inputs))\n",
    "inputs = inputs.reshape(-1,1)\n",
    "inputs = sc.transform(inputs)\n",
    "X_test = []\n",
    "for i in range(60, 80):\n",
    "    X_test.append(inputs[i-60:i, 0])\n",
    "X_test = np.array(X_test)\n",
    "X_test = np.reshape(X_test, (X_test.shape[0], X_test.shape[1], 1))\n",
    "predicted_stock_price = regressor.predict(X_test)\n",
    "predicted_stock_price = sc.inverse_transform(predicted_stock_price)"
   ]
  },
  {
   "cell_type": "markdown",
   "metadata": {
    "colab_type": "text",
    "id": "iFTNs3YHk6FQ"
   },
   "source": [
    "### Visualising the results"
   ]
  },
  {
   "cell_type": "code",
   "execution_count": 41,
   "metadata": {
    "colab": {
     "base_uri": "https://localhost:8080/",
     "height": 295
    },
    "colab_type": "code",
    "id": "8OUI8U49k9tH",
    "outputId": "db0ed15e-071b-4bae-955e-0eda3df95238"
   },
   "outputs": [
    {
     "data": {
      "image/png": "[encoded data removed]",
      "text/plain": [
       "<Figure size 640x480 with 1 Axes>"
      ]
     },
     "metadata": {},
     "output_type": "display_data"
    }
   ],
   "source": [
    "plt.plot(real_stock_price, color = 'red', label = 'Real Google Stock Price')\n",
    "plt.plot(predicted_stock_price, color = 'blue', label = 'Predicted Google Stock Price')\n",
    "plt.title('Google Stock Price Prediction')\n",
    "plt.xlabel('Time')\n",
    "plt.ylabel('Google Stock Price')\n",
    "plt.legend()\n",
    "plt.show()"
   ]
  },
  {
   "cell_type": "code",
   "execution_count": null,
   "metadata": {},
   "outputs": [],
   "source": []
  }
 ],
 "metadata": {
  "colab": {
   "collapsed_sections": [],
   "name": "recurrent_neural_network.ipynb",
   "provenance": []
  },
  "kernelspec": {
   "display_name": "Python 3 (ipykernel)",
   "language": "python",
   "name": "python3"
  },
  "language_info": {
   "codemirror_mode": {
    "name": "ipython",
    "version": 3
   },
   "file_extension": ".py",
   "mimetype": "text/x-python",
   "name": "python",
   "nbconvert_exporter": "python",
   "pygments_lexer": "ipython3",
   "version": "3.10.9"
  }
 },
 "nbformat": 4,
 "nbformat_minor": 1
}
